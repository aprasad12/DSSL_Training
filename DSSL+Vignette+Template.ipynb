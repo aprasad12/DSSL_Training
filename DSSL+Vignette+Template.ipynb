{
 "cells": [
  {
   "cell_type": "markdown",
   "metadata": {},
   "source": [
    "# Business Problem\n",
    "Describe the use case and provide any relevant information around the business problem"
   ]
  },
  {
   "cell_type": "markdown",
   "metadata": {},
   "source": [
    "# The Dataset\n",
    "Provide a description of the dataset, where/how it was obtained, fields contained"
   ]
  },
  {
   "cell_type": "markdown",
   "metadata": {},
   "source": [
    "# The Toolkit\n",
    "###### Jupyter Notebooks\n",
    "This Jupyter notebook is a self-contained python environment that includes an execution engine. Code blocks can be executed using 'Run Cell' or SHIFT+Enter. See the Help tab for more shortcuts and assistance\n",
    "\n",
    "###### Python Libraries\n",
    "You are free to import libraries as needed. Some analysis focused ones to consider\n",
    "\n",
    "\n",
    "|Library|Description|\n",
    "|--|-------------------------------|\n",
    "|pandas |data manipulation|\n",
    "|scikit-learn |data analysis|\n",
    "|bokeh |data visualization|\n",
    "\n",
    "***"
   ]
  },
  {
   "cell_type": "markdown",
   "metadata": {},
   "source": [
    "# 1. Prepare the Data\n",
    "Ingest and cleanse the data - consider the following\n",
    "* Clean up strings for trailing/leading spaces\n",
    "* Standardize dates\n",
    "* Check for missing values"
   ]
  },
  {
   "cell_type": "code",
   "execution_count": 1,
   "metadata": {
    "collapsed": true
   },
   "outputs": [],
   "source": []
  },
  {
   "cell_type": "markdown",
   "metadata": {},
   "source": [
    "# 2. Exploratory Data Analysis\n",
    "Gather descriptive statistics around the dataset to help guide your analysis - identify outliers, frequency tables, histograms, etc"
   ]
  },
  {
   "cell_type": "code",
   "execution_count": null,
   "metadata": {
    "collapsed": true
   },
   "outputs": [],
   "source": []
  },
  {
   "cell_type": "markdown",
   "metadata": {},
   "source": [
    "# 3. Model Building\n",
    "- **Feature Engineering:**\n",
    "Derive any additional variables \n",
    "\n",
    "- **Feature Selection:**\n",
    "Evaluate features for predictive value. Be weary of collinearity\n",
    "\n",
    "- **Model Selection:**\n",
    "Assemble candidate models, assess goodness of fit, adjust and tune as needed\n",
    "\n",
    "- **Model Evaluation:**\n",
    "Assess performance and accuracy of model"
   ]
  },
  {
   "cell_type": "code",
   "execution_count": null,
   "metadata": {
    "collapsed": true
   },
   "outputs": [],
   "source": []
  },
  {
   "cell_type": "markdown",
   "metadata": {},
   "source": [
    "***\n",
    "# Reference Links\n",
    "Place any reference links around the dataset or analysis technique here\n",
    "\n",
    "1. [pandas documentation](http://pandas.pydata.org/pandas-docs/stable/)\n",
    "2. [scikit-learn documentation](http://scikit-learn.org/stable/documentation.html)\n",
    "3. [Linear Regression Overview](placeholder)"
   ]
  }
 ],
 "metadata": {
  "anaconda-cloud": {},
  "kernelspec": {
   "display_name": "Python [conda root]",
   "language": "python",
   "name": "conda-root-py"
  },
  "language_info": {
   "codemirror_mode": {
    "name": "ipython",
    "version": 3
   },
   "file_extension": ".py",
   "mimetype": "text/x-python",
   "name": "python",
   "nbconvert_exporter": "python",
   "pygments_lexer": "ipython3",
   "version": "3.5.2"
  }
 },
 "nbformat": 4,
 "nbformat_minor": 1
}
